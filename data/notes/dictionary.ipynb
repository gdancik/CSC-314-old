{
 "cells": [
  {
   "cell_type": "markdown",
   "metadata": {
    "deletable": false,
    "editable": false
   },
   "source": [
    "# Python dictionaries\n",
    "\n",
    "A dictionary is an object for storing key-value pairs, such as\n",
    "word-definition pairs, though this need not be the interpretation. \n",
    " \n",
    "With a dictionary, it is easy to look up a 'key' and get the 'value'. Dictionary keys must be unique and immutable.\n",
    "For more information see the following link: http://www.tutorialspoint.com/python/python_dictionary.htm\n",
    "\n",
    "\n",
    "### Creating a dictionary\n",
    "\n",
    "Dictionaries can be created using the following syntax:\n",
    "\n",
    "```python\n",
    "dictionary = {'Key1': 'Value1',\n",
    "              'Key2': 'Value2', ...\n",
    "             }\n",
    "```"
   ]
  },
  {
   "cell_type": "code",
   "execution_count": null,
   "metadata": {
    "deletable": false,
    "editable": false
   },
   "outputs": [],
   "source": [
    "email = {'Dancik': 'dancikg@easternct.edu', \n",
    "         'Tasneem': 'TasneemS@easternct.edu',\n",
    "         'Rosiene': 'RosieneJ@easternct.edu',\n",
    "         }\n",
    "email"
   ]
  },
  {
   "cell_type": "markdown",
   "metadata": {
    "deletable": false,
    "editable": false
   },
   "source": [
    "To get all of the keys in the dictionary, use\n",
    "```python\n",
    "dictionary.keys()\n",
    "```"
   ]
  },
  {
   "cell_type": "code",
   "execution_count": null,
   "metadata": {
    "deletable": false,
    "editable": false
   },
   "outputs": [],
   "source": [
    "email.keys()"
   ]
  },
  {
   "cell_type": "markdown",
   "metadata": {
    "deletable": false,
    "editable": false
   },
   "source": [
    "### Looking up a key in the dictionary using bracket notation (raises an error if the key does not exist)\n",
    "\n",
    "There are two ways to look up a *key* in the dictionary. The code below returns the *value* for a particular *key*:\n",
    "\n",
    "```python\n",
    "dictionary[key]\n",
    "```"
   ]
  },
  {
   "cell_type": "code",
   "execution_count": null,
   "metadata": {
    "deletable": false,
    "editable": false
   },
   "outputs": [],
   "source": [
    "print('Please e-mail Dr. Dancik at', email['Dancik'])"
   ]
  },
  {
   "cell_type": "markdown",
   "metadata": {
    "deletable": false,
    "editable": false
   },
   "source": [
    "However this will result in an error if the *key* does not exist:"
   ]
  },
  {
   "cell_type": "code",
   "execution_count": null,
   "metadata": {
    "deletable": false,
    "editable": false
   },
   "outputs": [],
   "source": [
    "print('Please e-mail Dr. Gao at ' + email['Gao'])"
   ]
  },
  {
   "cell_type": "markdown",
   "metadata": {
    "deletable": false,
    "editable": false
   },
   "source": [
    "To avoid errors, you can first check if the key exists:"
   ]
  },
  {
   "cell_type": "code",
   "execution_count": null,
   "metadata": {
    "deletable": false,
    "editable": false
   },
   "outputs": [],
   "source": [
    "if 'Smith' in email :\n",
    "    print('Smith:', email['Smith'])\n",
    "else :\n",
    "    print(\"'Smith' is not in the dictionary\")"
   ]
  },
  {
   "cell_type": "markdown",
   "metadata": {
    "deletable": false,
    "editable": false
   },
   "source": [
    "### Looking up a key in the dictionary using the *get* method (returns specified value if key does not exist)\n",
    "\n",
    "You can also use the *get* method, which allows you to specify a value to return if a key does not exist:"
   ]
  },
  {
   "cell_type": "code",
   "execution_count": null,
   "metadata": {
    "deletable": false,
    "editable": false
   },
   "outputs": [],
   "source": [
    "print('Dancik:', email.get('Dancik', 'E-mail Not Found'))\n",
    "print('Smith:', email.get('Smith', 'E-mail Not Found'))"
   ]
  },
  {
   "cell_type": "markdown",
   "metadata": {},
   "source": [
    "### Modifying a dictionary or adding new key-value pairs\n",
    "\n",
    "New key-value pairs can be added using the following syntax:\n",
    "\n",
    "```python\n",
    "dictionary[newKey] = newValue\n",
    "```\n",
    "\n",
    "If *newKey* exists, then its value will be modified."
   ]
  },
  {
   "cell_type": "code",
   "execution_count": null,
   "metadata": {
    "deletable": false,
    "editable": false
   },
   "outputs": [],
   "source": [
    "# add Dr. Gao to the dictionary\n",
    "email['Gao'] = 'GaoK@easternct.edu' \n",
    "print (\"keys = \", email.keys())"
   ]
  },
  {
   "cell_type": "markdown",
   "metadata": {},
   "source": [
    "### Exercise\n",
    "\n",
    "Create a dictionary for DNA nucleotide complements. For example, looking up an 'A' should return a 'T' (and vice versa); looking up a 'G' should return a 'C' (and vice versa). Then use your dictionary to output the complement of the dna sequence below."
   ]
  },
  {
   "cell_type": "code",
   "execution_count": null,
   "metadata": {},
   "outputs": [],
   "source": [
    "dna = 'AGTCCAGGT'"
   ]
  },
  {
   "cell_type": "code",
   "execution_count": null,
   "metadata": {},
   "outputs": [],
   "source": []
  }
 ],
 "metadata": {
  "kernelspec": {
   "display_name": "Python 3 (ipykernel)",
   "language": "python",
   "name": "python3"
  },
  "language_info": {
   "codemirror_mode": {
    "name": "ipython",
    "version": 3
   },
   "file_extension": ".py",
   "mimetype": "text/x-python",
   "name": "python",
   "nbconvert_exporter": "python",
   "pygments_lexer": "ipython3",
   "version": "3.9.6"
  }
 },
 "nbformat": 4,
 "nbformat_minor": 2
}
