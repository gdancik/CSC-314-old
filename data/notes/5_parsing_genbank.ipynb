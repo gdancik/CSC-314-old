{
 "cells": [
  {
   "cell_type": "markdown",
   "metadata": {
    "deletable": false,
    "editable": false
   },
   "source": [
    "# Parsing GenBank sequences using SeqIO\n",
    "\n",
    "The *SeqIO.parse()* method can also be used to parse sequence records stored in GenBank flatfile format.\n",
    "\n",
    "We parse GenBank sequences the same way we parse FASTA sequences, to yield an *iterator* of *SeqRecord* objects. However, each *SeqRecord* object will now contain data for the *features* of the sequence.\n",
    "\n",
    "In this Notebook we will analyze *ls_orchid.fasta*, which was downloaded from the following page: \n",
    "https://raw.githubusercontent.com/biopython/biopython/master/Doc/examples/ls_orchid.gbk"
   ]
  },
  {
   "cell_type": "code",
   "execution_count": null,
   "metadata": {
    "deletable": false,
    "editable": false
   },
   "outputs": [],
   "source": [
    "from Bio import SeqIO # to parse sequence data\n",
    "\n",
    "with open('ls_orchid.gbk') as handle :\n",
    "    sequences = SeqIO.parse(handle, \"genbank\")\n",
    "    seq_record = next(sequences) # get the first sequence record\n",
    "\n",
    "seq_record"
   ]
  },
  {
   "cell_type": "markdown",
   "metadata": {
    "deletable": false,
    "editable": false
   },
   "source": [
    "Just like FASTA records, we can get the ID, length, sequence, etc from the sequence record"
   ]
  },
  {
   "cell_type": "code",
   "execution_count": null,
   "metadata": {
    "deletable": false,
    "editable": false
   },
   "outputs": [],
   "source": [
    "print()\n",
    "print(\"ID = \", seq_record.id)\n",
    "print(\"seq length = \", len(seq_record))\n",
    "print() \n",
    "print(seq_record.seq)"
   ]
  },
  {
   "cell_type": "markdown",
   "metadata": {
    "deletable": false,
    "editable": false
   },
   "source": [
    "The sequence records contains a list of *SeqFeature* objects, stored in *seq_record.features*."
   ]
  },
  {
   "cell_type": "code",
   "execution_count": null,
   "metadata": {
    "deletable": false,
    "editable": false
   },
   "outputs": [],
   "source": [
    "print(seq_record.features)"
   ]
  },
  {
   "cell_type": "markdown",
   "metadata": {
    "deletable": false,
    "editable": false
   },
   "source": [
    "Let's get the third feature:"
   ]
  },
  {
   "cell_type": "code",
   "execution_count": null,
   "metadata": {
    "deletable": false,
    "editable": false
   },
   "outputs": [],
   "source": [
    "thirdFeature = seq_record.features[2]\n",
    "thirdFeature"
   ]
  },
  {
   "cell_type": "markdown",
   "metadata": {
    "deletable": false,
    "editable": false
   },
   "source": [
    "Each feature has a *type* and a *location*."
   ]
  },
  {
   "cell_type": "code",
   "execution_count": null,
   "metadata": {
    "deletable": false,
    "editable": false
   },
   "outputs": [],
   "source": [
    "print(\"type = \", thirdFeature.type)\n",
    "print(\"location = \", thirdFeature.location)"
   ]
  },
  {
   "cell_type": "markdown",
   "metadata": {
    "deletable": false,
    "editable": false
   },
   "source": [
    "The *feature location* is a special object that has a *start* and *end* position, as well as information about the strand the feature is on (with +1 the given strand, and -1 its complement). Start and end positions may be *fuzzy*, (e.g., from <98..110), and are adjusted so slicing using the *start* and *end* values returns the correct sequence, e.g. (the sequence corresponding to the feature can be extracted using `seq[start:end]`). \n",
    "\n",
    "Feature locations may also consist of multiple regions (e.g., across multiple exons). "
   ]
  },
  {
   "cell_type": "code",
   "execution_count": null,
   "metadata": {
    "deletable": false,
    "editable": false,
    "scrolled": true
   },
   "outputs": [],
   "source": [
    "start = thirdFeature.location.start\n",
    "end = thirdFeature.location.end\n",
    "print(\"sequence of first feature:\", seq_record.seq[start:end])"
   ]
  },
  {
   "cell_type": "markdown",
   "metadata": {},
   "source": [
    "Feature *qualifiers* (e.g., /organism=\"Cypripedium irapeanum\") are stored in a dictionary. The qualifiers available will vary from one feature to another. Note that in the *qualifiers* dictionary, the values are always stored in lists."
   ]
  },
  {
   "cell_type": "code",
   "execution_count": null,
   "metadata": {
    "deletable": false,
    "editable": false
   },
   "outputs": [],
   "source": [
    "firstFeature = seq_record.features[0]\n",
    "firstFeature.qualifiers"
   ]
  },
  {
   "cell_type": "markdown",
   "metadata": {},
   "source": [
    "Look up the organism for this feature. Note that the qualifier always returns a list."
   ]
  },
  {
   "cell_type": "code",
   "execution_count": null,
   "metadata": {
    "deletable": false,
    "editable": false,
    "scrolled": true
   },
   "outputs": [],
   "source": [
    "print(firstFeature.qualifiers['organism'])"
   ]
  },
  {
   "cell_type": "markdown",
   "metadata": {
    "deletable": false,
    "editable": false
   },
   "source": [
    "To get the organism, extract the first element of the list."
   ]
  },
  {
   "cell_type": "code",
   "execution_count": null,
   "metadata": {
    "deletable": false,
    "editable": false
   },
   "outputs": [],
   "source": [
    "print(firstFeature.qualifiers['organism'][0])"
   ]
  },
  {
   "cell_type": "code",
   "execution_count": null,
   "metadata": {},
   "outputs": [],
   "source": []
  }
 ],
 "metadata": {
  "kernelspec": {
   "display_name": "Python 3 (ipykernel)",
   "language": "python",
   "name": "python3"
  },
  "language_info": {
   "codemirror_mode": {
    "name": "ipython",
    "version": 3
   },
   "file_extension": ".py",
   "mimetype": "text/x-python",
   "name": "python",
   "nbconvert_exporter": "python",
   "pygments_lexer": "ipython3",
   "version": "3.9.7"
  }
 },
 "nbformat": 4,
 "nbformat_minor": 2
}
