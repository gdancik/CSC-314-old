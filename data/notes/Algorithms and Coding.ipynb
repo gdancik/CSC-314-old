{
 "cells": [
  {
   "cell_type": "markdown",
   "id": "ddc02aaf",
   "metadata": {
    "deletable": false,
    "editable": false
   },
   "source": [
    "# Algorithms and Coding\n",
    "\n",
    "Writing code is all about problem-solving. \n",
    "- First, determine the steps needed to solve the problem (Explain it Like I'm Five)\n",
    "- Second, convert each step into Python code\n",
    "\n",
    "If you are unable to do (2), you may need to break (decompose) a step into multiple parts and then repeat. \n",
    "\n",
    "There are typically multiple ways to solve a problem, some which will be more efficient (faster) than others.  \n",
    "\n",
    "\n",
    "## Example 1\n",
    "\n",
    "The code below generates a random integer between 1 and 100. You have unlimited tries. How can you guess the random integer."
   ]
  },
  {
   "cell_type": "code",
   "execution_count": null,
   "id": "fd6bbbe0",
   "metadata": {
    "deletable": false,
    "editable": false
   },
   "outputs": [],
   "source": [
    "import random\n",
    "number = random.randint(1,101)\n",
    "number"
   ]
  },
  {
   "cell_type": "markdown",
   "id": "41ea6b9c",
   "metadata": {
    "deletable": false,
    "editable": false
   },
   "source": [
    "## Solution \\#1"
   ]
  },
  {
   "cell_type": "code",
   "execution_count": null,
   "id": "58dd5232",
   "metadata": {},
   "outputs": [],
   "source": []
  },
  {
   "cell_type": "markdown",
   "id": "fa2f32f2",
   "metadata": {
    "deletable": false,
    "editable": false
   },
   "source": [
    "## Solution \\#2"
   ]
  },
  {
   "cell_type": "code",
   "execution_count": null,
   "id": "28f31c10",
   "metadata": {},
   "outputs": [],
   "source": []
  },
  {
   "cell_type": "markdown",
   "id": "526ea137",
   "metadata": {
    "deletable": false,
    "editable": false
   },
   "source": [
    "## Example 2\n",
    "\n",
    "Assume that the first 10 nucleotides of the sequences below are in the end of the promoter region. Is there a start codon ('ATG') in the transcribed sequence (beginning after the first 10 nucleotides)? "
   ]
  },
  {
   "cell_type": "code",
   "execution_count": null,
   "id": "382323c0",
   "metadata": {
    "deletable": false,
    "editable": false
   },
   "outputs": [],
   "source": [
    "seq1 = '--ATG----------------------------------'\n",
    "seq1 = '--ATG------------------------ATG------'\n",
    "seq3 = '--------------------ATG----------------'"
   ]
  },
  {
   "cell_type": "markdown",
   "id": "7fbd2d99",
   "metadata": {},
   "source": [
    "## Solution \\#1"
   ]
  },
  {
   "cell_type": "code",
   "execution_count": null,
   "id": "e333278e",
   "metadata": {},
   "outputs": [],
   "source": []
  },
  {
   "cell_type": "markdown",
   "id": "cdd4fe2d",
   "metadata": {},
   "source": [
    "## Solution \\#2"
   ]
  },
  {
   "cell_type": "code",
   "execution_count": null,
   "id": "d481839e",
   "metadata": {},
   "outputs": [],
   "source": []
  }
 ],
 "metadata": {
  "kernelspec": {
   "display_name": "Python 3 (ipykernel)",
   "language": "python",
   "name": "python3"
  },
  "language_info": {
   "codemirror_mode": {
    "name": "ipython",
    "version": 3
   },
   "file_extension": ".py",
   "mimetype": "text/x-python",
   "name": "python",
   "nbconvert_exporter": "python",
   "pygments_lexer": "ipython3",
   "version": "3.9.6"
  }
 },
 "nbformat": 4,
 "nbformat_minor": 5
}
