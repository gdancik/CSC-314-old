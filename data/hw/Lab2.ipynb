{
 "cells": [
  {
   "cell_type": "markdown",
   "metadata": {
    "deletable": false,
    "editable": false
   },
   "source": [
    "# Lab 2: Python and Basic Sequence analysis"
   ]
  },
  {
   "cell_type": "markdown",
   "metadata": {},
   "source": [
    "### Name: (add name here) [1 point]"
   ]
  },
  {
   "cell_type": "code",
   "execution_count": null,
   "metadata": {},
   "outputs": [],
   "source": []
  },
  {
   "cell_type": "markdown",
   "metadata": {
    "deletable": false,
    "editable": false
   },
   "source": [
    "### Question 1 <span style = 'font-size:80%'>[3 points]</span>\n",
    "\n",
    "Use a single print statement to print out your name. You should not use any variables for this question. Your output should have the format:\n",
    "\n",
    "```\n",
    "My name is: Garrett Dancik\n",
    "```"
   ]
  },
  {
   "cell_type": "code",
   "execution_count": null,
   "metadata": {},
   "outputs": [],
   "source": []
  },
  {
   "cell_type": "markdown",
   "metadata": {
    "deletable": false,
    "editable": false
   },
   "source": [
    "### Question 2 <span style = 'font-size:80%'>[4 points]</span>\n",
    "\n",
    "Store your full name in a single variable *fullName*, and then output your name using the same format as question 1, but output the value of *fullName*."
   ]
  },
  {
   "cell_type": "code",
   "execution_count": null,
   "metadata": {},
   "outputs": [],
   "source": []
  },
  {
   "cell_type": "markdown",
   "metadata": {
    "deletable": false,
    "editable": false
   },
   "source": [
    "For the next set of questions, use the DNA sequence provided below, which is stored in *dna*. Your answers to these questions should use the variable *dna*. In other words, your code should return the correct answers for any sequence stored in *dna*."
   ]
  },
  {
   "cell_type": "code",
   "execution_count": null,
   "metadata": {
    "deletable": false,
    "editable": false
   },
   "outputs": [],
   "source": [
    "dna = 'acgtagagaatacgtgagagagatcagactagaca'"
   ]
  },
  {
   "cell_type": "markdown",
   "metadata": {
    "deletable": false,
    "editable": false
   },
   "source": [
    "### Question 3 <span style = 'font-size:80%'>[3 points]</span>\n",
    "\n",
    "Display the length of the DNA sequence (which is the number of characters, or nucleotides).\n"
   ]
  },
  {
   "cell_type": "code",
   "execution_count": null,
   "metadata": {},
   "outputs": [],
   "source": []
  },
  {
   "cell_type": "markdown",
   "metadata": {
    "deletable": false,
    "editable": false
   },
   "source": [
    "### Question 4 <span style = 'font-size:80%'>[3 points]</span>\n",
    "\n",
    "Display the first 4 nucleotides of the sequence."
   ]
  },
  {
   "cell_type": "code",
   "execution_count": null,
   "metadata": {},
   "outputs": [],
   "source": []
  },
  {
   "cell_type": "markdown",
   "metadata": {
    "deletable": false,
    "editable": false
   },
   "source": [
    "### Question 5 <span style = 'font-size:80%'>[3 points]</span>\n",
    "\n",
    "Display the last 3 nucleotides of the DNA sequence"
   ]
  },
  {
   "cell_type": "code",
   "execution_count": null,
   "metadata": {},
   "outputs": [],
   "source": []
  },
  {
   "cell_type": "markdown",
   "metadata": {
    "deletable": false,
    "editable": false
   },
   "source": [
    "### Question 6 <span style = 'font-size:80%'>[4 points]</span>\n",
    "\n",
    "Output the number of G's in the sequence. You can assume that the sequence is stored in lowercase."
   ]
  },
  {
   "cell_type": "code",
   "execution_count": null,
   "metadata": {},
   "outputs": [],
   "source": []
  },
  {
   "cell_type": "markdown",
   "metadata": {
    "deletable": false,
    "editable": false
   },
   "source": [
    "### Question 7 <span style = 'font-size:80%'>[4 points]</span>\n",
    "\n",
    "Change the sequence to all uppercase letters, and store the uppercase sequence in *dna*. After doing this, *dna* should contain the original sequence but in all uppercase, which would be output correctly below."
   ]
  },
  {
   "cell_type": "code",
   "execution_count": null,
   "metadata": {},
   "outputs": [],
   "source": []
  },
  {
   "cell_type": "code",
   "execution_count": null,
   "metadata": {
    "deletable": false,
    "editable": false
   },
   "outputs": [],
   "source": [
    "print('The DNA sequence (in all uppercase letters) is:', dna)"
   ]
  },
  {
   "cell_type": "markdown",
   "metadata": {
    "deletable": false,
    "editable": false
   },
   "source": [
    "### Question 8 <span style = 'font-size:80%'>[5 points]</span>\n",
    "\n",
    "Use the *input* function to prompt the user to enter a number of nucleotides, which is stored in *num*. Then output the first *num* nucleotides of the sequence. For example, if the user enters 6, your output should have the following format and output the first 6 nucleotides of *dna*:\n",
    "\n",
    "```\n",
    "The first 6 nucleotides are: acgtag\n",
    "```\n",
    "\n",
    "Note: you do not need to worry about invalid input, but note that the input must be converted to an integer to work. You also can assume that *num* is greater than or equal to the length of the sequence. Note that if *num* is greater than the length of the sequence, slicing will return the entire sequence, which is the desired result in this case."
   ]
  },
  {
   "cell_type": "code",
   "execution_count": null,
   "metadata": {},
   "outputs": [],
   "source": []
  },
  {
   "cell_type": "markdown",
   "metadata": {
    "deletable": false,
    "editable": false
   },
   "source": [
    "### Question 9 <span style = 'font-size:80%'>[3 points]</span>\n",
    "\n",
    "Convert the DNA sequence to an RNA sequence, and store the result in a variable named *rna*. Recall that an RNA sequence has a 'U' instead of a 'T'. "
   ]
  },
  {
   "cell_type": "code",
   "execution_count": null,
   "metadata": {},
   "outputs": [],
   "source": []
  },
  {
   "cell_type": "markdown",
   "metadata": {
    "deletable": false,
    "editable": false
   },
   "source": [
    "### Question 10 <span style = 'font-size:80%'>[3 points]</span>\n",
    "\n",
    "(a) Use string concatentation to output the DNA sequence with a 'G' added to the *end* of the sequence"
   ]
  },
  {
   "cell_type": "code",
   "execution_count": null,
   "metadata": {},
   "outputs": [],
   "source": []
  },
  {
   "cell_type": "markdown",
   "metadata": {
    "deletable": false,
    "editable": false
   },
   "source": [
    "(b) Use string concatentation to output the DNA sequence with a 'G' added to the *beginning* of the sequence"
   ]
  },
  {
   "cell_type": "code",
   "execution_count": null,
   "metadata": {},
   "outputs": [],
   "source": []
  }
 ],
 "metadata": {
  "kernelspec": {
   "display_name": "Python 3 (ipykernel)",
   "language": "python",
   "name": "python3"
  },
  "language_info": {
   "codemirror_mode": {
    "name": "ipython",
    "version": 3
   },
   "file_extension": ".py",
   "mimetype": "text/x-python",
   "name": "python",
   "nbconvert_exporter": "python",
   "pygments_lexer": "ipython3",
   "version": "3.9.6"
  }
 },
 "nbformat": 4,
 "nbformat_minor": 4
}
