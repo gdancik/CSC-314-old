{
 "cells": [
  {
   "cell_type": "markdown",
   "metadata": {
    "deletable": false,
    "editable": false
   },
   "source": [
    "# Lab 3: Complements"
   ]
  },
  {
   "cell_type": "markdown",
   "metadata": {},
   "source": [
    "### Name: (add your name to this markdown cell)"
   ]
  },
  {
   "cell_type": "code",
   "execution_count": null,
   "metadata": {},
   "outputs": [],
   "source": [
    "user_dna = 'ACDTAGCA'"
   ]
  },
  {
   "cell_type": "markdown",
   "metadata": {
    "deletable": false,
    "editable": false
   },
   "source": [
    "### Question 1 <span style = 'font-size:80%'>[6 points]</span>\n",
    "\n",
    "Prompt the user to enter a sequence, and store the sequence in *user_dna*."
   ]
  },
  {
   "cell_type": "code",
   "execution_count": null,
   "metadata": {},
   "outputs": [],
   "source": []
  },
  {
   "cell_type": "markdown",
   "metadata": {
    "deletable": false,
    "editable": false
   },
   "source": [
    "### Question 2 <span style = 'font-size:80%'>[4 points]</span>\n",
    "\n",
    "Convert the sequence to upper case, and store the sequence in *user_dna*. This ensures that the results below are correct regardless of whether the user enters the sequence in lower- or uppercase."
   ]
  },
  {
   "cell_type": "code",
   "execution_count": null,
   "metadata": {},
   "outputs": [],
   "source": []
  },
  {
   "cell_type": "markdown",
   "metadata": {},
   "source": [
    "### Format the sequence for invalid characters"
   ]
  },
  {
   "cell_type": "code",
   "execution_count": null,
   "metadata": {
    "deletable": false,
    "editable": false
   },
   "outputs": [],
   "source": [
    "# start with an empty formatted sequence\n",
    "dna = ''\n",
    "\n",
    "# for each nucleotide in the sequence\n",
    "for nucleotide in user_dna :\n",
    "    \n",
    "    # if valid, add it to the formatted sequence\n",
    "    if nucleotide in 'TCGA' :\n",
    "        dna += nucleotide\n",
    "    else : # otherwise, add a '-' for an invalid character\n",
    "        dna += '-'\n",
    "        \n",
    "# display the sequence\n",
    "dna"
   ]
  },
  {
   "cell_type": "markdown",
   "metadata": {
    "deletable": false,
    "editable": false
   },
   "source": [
    "### Question 3 <span style = 'font-size:80%'>[5 points]</span>\n",
    "Display the sequence, which is stored in *dna*, making sure to display the sequence with the 5' and 3' labels. *Note*: the labels should not be added to the sequence (string) itself, but should only be included when the sequence is printed or displayed.\n",
    "\n",
    "Your sequence should be displayed with the following format:\n",
    "\n",
    "5' - AC-TAGC-A - 3'\n"
   ]
  },
  {
   "cell_type": "code",
   "execution_count": null,
   "metadata": {},
   "outputs": [],
   "source": []
  },
  {
   "cell_type": "markdown",
   "metadata": {
    "deletable": false,
    "editable": false
   },
   "source": [
    "### Question 4 <span style = 'font-size:80%'>[5 points]</span>\n",
    "\n",
    "Output the length of the sequence (including invalid characters), using the following format:\n",
    "\n",
    "```\n",
    "The sequence has 13 nucleotides\n",
    "```"
   ]
  },
  {
   "cell_type": "code",
   "execution_count": null,
   "metadata": {},
   "outputs": [],
   "source": []
  },
  {
   "cell_type": "markdown",
   "metadata": {
    "deletable": false,
    "editable": false
   },
   "source": [
    "### Question 5 <span style = 'font-size:80%'>[10 points]</span>\n",
    "\n",
    "Write code to construct and output the complementary sequence. Your output should include the correct 5' and 3' labels, which should not be part of the sequence itself. Note: if the character is a '-', then you should also use a '-' for its complement. You must complete this using programming concepts we have discussed in class (e.g., with *if-else* statements)."
   ]
  },
  {
   "cell_type": "code",
   "execution_count": null,
   "metadata": {},
   "outputs": [],
   "source": []
  },
  {
   "cell_type": "markdown",
   "metadata": {
    "deletable": false,
    "editable": false
   },
   "source": [
    "### Question 6 <span style = 'font-size:80%'>[5 points]</span>\n",
    "\n",
    "Write code to display the reverse complement of the original sequence, using your answer from Question 5. If you did not answer question 5, then output the reverse of the original sequence. Make sure to include the 5' and 3' labels in your output."
   ]
  },
  {
   "cell_type": "code",
   "execution_count": null,
   "metadata": {},
   "outputs": [],
   "source": []
  },
  {
   "cell_type": "markdown",
   "metadata": {
    "deletable": false,
    "editable": false
   },
   "source": [
    "### Question 7 <span style = 'font-size:80%'>[5 points]</span>\n",
    "\n",
    "The nucleotide sequence 'ATG' is known as the *start codon* because of its role in translation (the process by which mRNA is converted to a protein sequence, which we will discuss soon). Write code that determines whether a *start codon* is in the original sequence. If so, then output that a start codon was found, and display the sequence that begins with the *start codon*.  Otherwise, output that a start codon was not found. If the sequence is GGGATGAGGACA (which contains a start codon) then your code should output, e.g.\n",
    "\n",
    "```\n",
    "Start codon found, giving sequence: ATGAGGACA\n",
    "```\n",
    "\n",
    "If the sequence does not contain a start codon, your code should output :\n",
    "\n",
    "```\n",
    "The DNA sequence does NOT contain a start codon\n",
    "```\n",
    "\n",
    "**Note**: If the original sequence contains multiple start codons, you should only output results for the first one\n"
   ]
  },
  {
   "cell_type": "code",
   "execution_count": null,
   "metadata": {},
   "outputs": [],
   "source": []
  }
 ],
 "metadata": {
  "kernelspec": {
   "display_name": "Python 3 (ipykernel)",
   "language": "python",
   "name": "python3"
  },
  "language_info": {
   "codemirror_mode": {
    "name": "ipython",
    "version": 3
   },
   "file_extension": ".py",
   "mimetype": "text/x-python",
   "name": "python",
   "nbconvert_exporter": "python",
   "pygments_lexer": "ipython3",
   "version": "3.9.6"
  }
 },
 "nbformat": 4,
 "nbformat_minor": 4
}
