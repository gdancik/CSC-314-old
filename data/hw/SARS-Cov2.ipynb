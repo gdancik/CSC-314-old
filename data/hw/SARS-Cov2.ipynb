{
 "cells": [
  {
   "cell_type": "markdown",
   "metadata": {
    "deletable": false,
    "editable": false
   },
   "source": [
    "# Lab 8: Summarizing the *SARS-COV-2* genome\n",
    "\n",
    "In this lab we will use Biopython to summarize the *Severe acute respiratory syndrome coronavirus 2 (SARS-Cov-2)* genome.\n",
    "\n",
    "The entry has been downloaded from https://www.ncbi.nlm.nih.gov/nuccore/NC_045512 and saved as a text file which is available on the course page."
   ]
  },
  {
   "cell_type": "code",
   "execution_count": null,
   "metadata": {
    "deletable": false,
    "editable": false
   },
   "outputs": [],
   "source": [
    "from Bio import SeqIO # to parse sequence data\n",
    "\n",
    "with open('SARS-COV-2.gbk') as handle :\n",
    "    sequences = SeqIO.parse(handle, \"genbank\")\n",
    "    seq_record = next(sequences) # get the first sequence record\n",
    "\n",
    "seq_record"
   ]
  },
  {
   "cell_type": "markdown",
   "metadata": {
    "deletable": false,
    "editable": false
   },
   "source": [
    "### Find all protein products from CDS features\n",
    "\n",
    "For each CDS, output the gene name, protein id, and product in a table format that uses *f-strings* (see below) so that each column has a width of 20 characters. "
   ]
  },
  {
   "cell_type": "code",
   "execution_count": null,
   "metadata": {},
   "outputs": [],
   "source": []
  },
  {
   "cell_type": "markdown",
   "metadata": {
    "deletable": false,
    "editable": false
   },
   "source": [
    "### Find all mature protein products of *orf1ab*\n",
    "\n",
    "The gene *orf1ab* is known as a *polyprotein*. A polyprotein is a gene that is translated into a single protein that is then cleaved (cut) into multiple proteins, which are then referred to as *mature peptides*. For each of the mature peptides produced by *orf1ab*, output the gene name, protein id, and product in a table using the same format as the previous problem.  Also use Python to count and then output the number of mature peptides produced by *orf1ab*."
   ]
  },
  {
   "cell_type": "code",
   "execution_count": null,
   "metadata": {},
   "outputs": [],
   "source": []
  },
  {
   "cell_type": "markdown",
   "metadata": {
    "deletable": false,
    "editable": false
   },
   "source": [
    "### Extracting viral RNA sequences for coronavirus testing\n",
    "\n",
    "Current tests for *SARS-COV-2* involve testing for the presence of viral RNA molecules. For example, \"the Stanford test screens first for the presence of viral RNA encoding a protein called an envelope protein, which is found in the membrane that surrounds the virus and plays an important role in the viral life cycle, including budding from an infected host cells. It then confirms the positive result by testing for a gene encoding a second protein called RNA-dependent RNA polymerase.\"\n",
    "\n",
    "Source: http://med.stanford.edu/news/all-news/2020/03/stanford-medicine-COVID-19-test-now-in-use.html\n",
    "\n",
    "**Question**: Output the RNA sequences for the *envelope protein* CDS and the *RNA-dependent RNA polymerase*, which is a *mature protein*. Note: you should output the gene sequences from the seq_record entry; these sequences are actually DNA sequences -- the viral RNA is identical but will have uracil instead of thymine.\n"
   ]
  },
  {
   "cell_type": "code",
   "execution_count": null,
   "metadata": {},
   "outputs": [],
   "source": []
  },
  {
   "cell_type": "markdown",
   "metadata": {
    "deletable": false,
    "editable": false
   },
   "source": [
    "### Aside: f-strings\n",
    "\n",
    "An *f-string* is a formatted string in Python. Formatting includes specification of the width of the output, or specifying the number of decimal places for a decimal number. We will only worry about setting the output width here.\n",
    "\n",
    "The basic syntax of a formatted string is\n",
    "```\n",
    "f'text {value:format} more text'\n",
    "```\n",
    "\n",
    "where *value* is a string or the name of a variable, and format can be\n",
    "\n",
    "- a number, to denote the width (e.g., 10) (with default left-alignment)\n",
    "- a number, preceded by a '<' for left-alignment, a '^' for center-alignment, or a '>'for right-alignment\n",
    "\n",
    "The cell below demonstrates how to display 'hi' inside a block of 10 characters, where 'hi' is left-aligned, centered, or right-aligned."
   ]
  },
  {
   "cell_type": "code",
   "execution_count": null,
   "metadata": {
    "deletable": false,
    "editable": false
   },
   "outputs": [],
   "source": [
    "print(f'{\"hi\":<10}') # left-align\n",
    "print(f'{\"hi\":^10}') # center-align\n",
    "print(f'{\"hi\":>10}') # right-align"
   ]
  },
  {
   "cell_type": "markdown",
   "metadata": {
    "deletable": false,
    "editable": false
   },
   "source": [
    "We can also use *f-strings* to display the values of variables, as in the example below."
   ]
  },
  {
   "cell_type": "code",
   "execution_count": null,
   "metadata": {
    "deletable": false,
    "editable": false
   },
   "outputs": [],
   "source": [
    "fName = 'Jane'\n",
    "lName = 'Doe'\n",
    "print(f'Hello {fName} {lName}!')"
   ]
  }
 ],
 "metadata": {
  "kernelspec": {
   "display_name": "Python 3",
   "language": "python",
   "name": "python3"
  },
  "language_info": {
   "codemirror_mode": {
    "name": "ipython",
    "version": 3
   },
   "file_extension": ".py",
   "mimetype": "text/x-python",
   "name": "python",
   "nbconvert_exporter": "python",
   "pygments_lexer": "ipython3",
   "version": "3.7.4"
  }
 },
 "nbformat": 4,
 "nbformat_minor": 2
}
